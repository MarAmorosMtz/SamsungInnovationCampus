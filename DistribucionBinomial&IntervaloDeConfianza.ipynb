{
  "nbformat": 4,
  "nbformat_minor": 0,
  "metadata": {
    "colab": {
      "provenance": [],
      "authorship_tag": "ABX9TyPJ4cpps4KgHSqwPo/3Bcjy",
      "include_colab_link": true
    },
    "kernelspec": {
      "name": "python3",
      "display_name": "Python 3"
    },
    "language_info": {
      "name": "python"
    }
  },
  "cells": [
    {
      "cell_type": "markdown",
      "metadata": {
        "id": "view-in-github",
        "colab_type": "text"
      },
      "source": [
        "<a href=\"https://colab.research.google.com/github/MarAmorosMtz/SamsungInnovationCampus/blob/main/DistribucionBinomial%26IntervaloDeConfianza.ipynb\" target=\"_parent\"><img src=\"https://colab.research.google.com/assets/colab-badge.svg\" alt=\"Open In Colab\"/></a>"
      ]
    },
    {
      "cell_type": "markdown",
      "source": [
        "Importar numpy con el alias np para poder utilizar las funciones factorial y potencia"
      ],
      "metadata": {
        "id": "0feXEee8QPw2"
      }
    },
    {
      "cell_type": "code",
      "execution_count": 1,
      "metadata": {
        "id": "AsEYw20kKLsV"
      },
      "outputs": [],
      "source": [
        "import numpy as np"
      ]
    },
    {
      "cell_type": "markdown",
      "source": [
        "Se definen las variables a utilizar, en este caso se define\n",
        "n como el numero de experimientos (hijos)\n",
        "p como la probabilidad unitaria de que cada experimento tome el valor deseado\n",
        "q la probabilidad unitaria de que cada experimento tome el valor no deseado\n",
        "x como el numero de casos de exito que buscamos\n",
        "\n",
        "En este caso se han declarado como enteros (int) a n y a x con el fin de no tener problemas al utilizarlo como parametros en las funciones factoriales"
      ],
      "metadata": {
        "id": "eB3AnPXAQYH9"
      }
    },
    {
      "cell_type": "code",
      "source": [
        "n = int(3) #Numero de hijos\n",
        "p = 0.5 #Probabilidad de que sea un niño\n",
        "q = 1 - p #Probabilidad de que sea una niña\n",
        "x = int(2) #Numero de hijos que queremos simular"
      ],
      "metadata": {
        "id": "iwpol6KKKTKz"
      },
      "execution_count": 18,
      "outputs": []
    },
    {
      "cell_type": "markdown",
      "source": [
        "Siguiendo la formula de la distribucion binomial se calcula el coeficiente, la media y la varianza"
      ],
      "metadata": {
        "id": "RzXTywJZQ3AS"
      }
    },
    {
      "cell_type": "code",
      "source": [
        "coeficiente = (np.math.factorial(n)) / (np.math.factorial(x) * np.math.factorial(n - x))\n",
        "prob = coeficiente * np.power(p, x) * np.power(q, n - x)\n",
        "print(\"La probabilidad es: \", prob)\n",
        "\n",
        "media = n * prob\n",
        "print(\"La media es: \", media)\n",
        "\n",
        "varianza = n * prob * (1 - prob)\n",
        "print(\"La varianza es: \", varianza)"
      ],
      "metadata": {
        "colab": {
          "base_uri": "https://localhost:8080/"
        },
        "id": "D2hrWjZYLAa4",
        "outputId": "cafd31fe-8554-48ed-9e4f-9580bbacc510"
      },
      "execution_count": 20,
      "outputs": [
        {
          "output_type": "stream",
          "name": "stdout",
          "text": [
            "La probabilidad es:  0.375\n",
            "La media es:  1.125\n",
            "La varianza es:  0.703125\n"
          ]
        },
        {
          "output_type": "stream",
          "name": "stderr",
          "text": [
            "<ipython-input-20-0ed2bae98305>:1: DeprecationWarning: `np.math` is a deprecated alias for the standard library `math` module (Deprecated Numpy 1.25). Replace usages of `np.math` with `math`\n",
            "  coeficiente = (np.math.factorial(n)) / (np.math.factorial(x) * np.math.factorial(n - x))\n"
          ]
        }
      ]
    },
    {
      "cell_type": "code",
      "source": [
        "import scipy.stats as stats\n",
        "import math"
      ],
      "metadata": {
        "id": "ErnBZHUGSLqE"
      },
      "execution_count": 21,
      "outputs": []
    },
    {
      "cell_type": "code",
      "source": [
        "x_bar = 80  # media muestral\n",
        "s = 3       # desviación estándar muestral (raíz cuadrada de la varianza)\n",
        "n = 30      # tamaño de la muestra\n",
        "alpha = 0.05  # nivel de significancia (95% de confianza)"
      ],
      "metadata": {
        "id": "6uz0ptLySU3o"
      },
      "execution_count": 22,
      "outputs": []
    },
    {
      "cell_type": "code",
      "source": [
        "# Calcular el valor Z crítico para un intervalo de confianza del 95%\n",
        "Z_critical = stats.norm.ppf(1 - alpha/2) #Zα/2\n",
        "\n",
        "# Calcular el margen de error\n",
        "margin_of_error = Z_critical * (s / math.sqrt(n)) #Zα/2 ⋅ s / n ^ -1\n",
        "\n",
        "# Calcular el intervalo de confianza\n",
        "lower_bound = x_bar - margin_of_error\n",
        "upper_bound = x_bar + margin_of_error\n",
        "\n",
        "# Resultados\n",
        "print(f\"El intervalo de confianza del 95% para la media es: ({lower_bound:.2f} - {upper_bound:.2f})\")"
      ],
      "metadata": {
        "colab": {
          "base_uri": "https://localhost:8080/"
        },
        "id": "1r75QfZHSaqF",
        "outputId": "6124586b-740e-451e-e6b8-783793d4f602"
      },
      "execution_count": 25,
      "outputs": [
        {
          "output_type": "stream",
          "name": "stdout",
          "text": [
            "El intervalo de confianza del 95% para la media es: (78.93 - 81.07)\n"
          ]
        }
      ]
    },
    {
      "cell_type": "code",
      "source": [
        "import numpy as np\n",
        "import pandas as pd\n",
        "from sklearn.datasets import load_breast_cancer\n",
        "\n",
        "# Importar datos\n",
        "data = load_breast_cancer()\n",
        "\n",
        "# Crear DataFrame\n",
        "df = pd.DataFrame(data.data, columns=data.feature_names)\n",
        "\n",
        "# Añadir la columna 'target'\n",
        "df = df.assign(target=pd.Series(1 - data.target))\n",
        "\n",
        "# Calcular la matriz de correlación de las columnas numéricas del DataFrame\n",
        "corr = df.corr()\n",
        "\n",
        "# Redondear los valores de la matriz de correlación a 3 decimales\n",
        "corr = corr.round(3)\n",
        "\n",
        "# Seleccionar la columna de la matriz de correlación que corresponde a 'target'\n",
        "target_corr = corr['target']\n",
        "\n",
        "# Seleccionar todos los elementos de la Serie, excepto el último\n",
        "target_corr_without_last = target_corr[:-1]\n",
        "\n",
        "# Encontrar el índice del valor máximo en la serie de correlaciones\n",
        "max_corr_index = target_corr_without_last.idxmax()\n",
        "\n",
        "# Seleccionar directamente el valor correspondiente en la columna 'target'\n",
        "max_corr_value = target_corr[max_corr_index]\n",
        "\n",
        "# Imprimir el valor máximo de correlación y la variable asociada\n",
        "print(f\"La variable con mayor correlación con 'target' es: {max_corr_index}\")\n",
        "print(f\"El valor de correlación máximo es: {max_corr_value}\")\n"
      ],
      "metadata": {
        "colab": {
          "base_uri": "https://localhost:8080/"
        },
        "id": "x-UCNAoMTg8u",
        "outputId": "bc50706e-bafb-41a7-b47d-80182fd3ba79"
      },
      "execution_count": 26,
      "outputs": [
        {
          "output_type": "stream",
          "name": "stdout",
          "text": [
            "La variable con mayor correlación con 'target' es: worst concave points\n",
            "El valor de correlación máximo es: 0.794\n"
          ]
        }
      ]
    }
  ]
}