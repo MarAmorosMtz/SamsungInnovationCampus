{
  "nbformat": 4,
  "nbformat_minor": 0,
  "metadata": {
    "colab": {
      "provenance": [],
      "authorship_tag": "ABX9TyOiDB37qnusEtkGEssx+H1v",
      "include_colab_link": true
    },
    "kernelspec": {
      "name": "python3",
      "display_name": "Python 3"
    },
    "language_info": {
      "name": "python"
    }
  },
  "cells": [
    {
      "cell_type": "markdown",
      "metadata": {
        "id": "view-in-github",
        "colab_type": "text"
      },
      "source": [
        "<a href=\"https://colab.research.google.com/github/MarAmorosMtz/SamsungInnovationCampus/blob/main/PrediccionSigmode.ipynb\" target=\"_parent\"><img src=\"https://colab.research.google.com/assets/colab-badge.svg\" alt=\"Open In Colab\"/></a>"
      ]
    },
    {
      "cell_type": "markdown",
      "source": [
        "Importa las librerias numpy y matplotlib\n",
        "necesarias para calculos matemáticos y graficacion respectivamente"
      ],
      "metadata": {
        "id": "ts8AwSY5nmWI"
      }
    },
    {
      "cell_type": "code",
      "source": [
        "import numpy as np\n",
        "import matplotlib.pyplot as plt"
      ],
      "metadata": {
        "id": "bTM7SPd5aYEY"
      },
      "execution_count": 10,
      "outputs": []
    },
    {
      "cell_type": "markdown",
      "source": [
        "Define una funcion sigmoide, devuelve un valor entre 0 y 1\n",
        "\n",
        "$$\n",
        "\\frac{1}{1 + e ^{-z}}\n",
        "$$\n",
        "\n",
        "donde\n",
        "\n",
        "$$\n",
        "\\ z = wx+b\n",
        "$$\n"
      ],
      "metadata": {
        "id": "uoO0f0tznvKd"
      }
    },
    {
      "cell_type": "code",
      "source": [
        "def sigmoid(z):\n",
        "    return 1/(1+np.exp(-z))"
      ],
      "metadata": {
        "id": "jQqajvl_ahq1"
      },
      "execution_count": 23,
      "outputs": []
    },
    {
      "cell_type": "markdown",
      "source": [
        "La funcion compute_gradients ajusta los gradientes para actualizar los parámtros del modelo. Los gradientes representan cómo cambia la la perdida con respecto a cada valor real para minimizar el error.\n",
        "\n",
        "La formula calcula la sumatoria de las diferencias entre el valor real y el obtenido, multiplicado por el muestreo y se normaliza entre 1 y 0 multiplicando todo por 1/m\n",
        "\n",
        "$$\n",
        "\\frac{1}{m}\\sum_{i = 1}^m (y^ipred - y^i)x^i\n",
        "$$"
      ],
      "metadata": {
        "id": "YPILcZOtraBV"
      }
    },
    {
      "cell_type": "code",
      "source": [
        "def probabilidad(x, w, b):\n",
        "  return sigmoid(w*x+b)\n",
        "\n",
        "def compute_gradients(horas, y, y_pred):\n",
        "    m = len(y)  #Numero de muestras en el conjunto de datos\n",
        "    dw = 1 / m * np.sum((y_pred - y) * horas)\n",
        "    db = 1 / m * np.sum(y_pred - y)\n",
        "    return dw, db"
      ],
      "metadata": {
        "id": "MYp7zUFEax7q"
      },
      "execution_count": 97,
      "outputs": []
    },
    {
      "cell_type": "markdown",
      "source": [
        "La siguiente funcion ajusta los valores del sesgo y el peso (w, b) recibiendo el ratio de aprendizaje y el numero de iteraciones. Calcula ypred utilizando la funcion de la sigmoide con los valores actuales de w y b, luego computa el cambio que debe de haber en funcion de que tan diferente es de el valor real que deberia de tener segun los datos de entrenamiento proporcionados. Ajusta los valores de w y b repite el proceso. Finalmente regresa los valores de w y b ajustados al minimo error"
      ],
      "metadata": {
        "id": "L0VRRrl5tT81"
      }
    },
    {
      "cell_type": "code",
      "source": [
        "def entrenamiento(horas, aprobado, aprendizaje, iteraciones):\n",
        "  w, b= 0, 0\n",
        "  for i in range(iteraciones):\n",
        "    prediccion = probabilidad(horas, w, b)\n",
        "\n",
        "    dw, db = compute_gradients(horas, aprobado, prediccion)\n",
        "\n",
        "    w -= aprendizaje * dw\n",
        "    b -= aprendizaje * db\n",
        "\n",
        "  return w, b"
      ],
      "metadata": {
        "id": "kQpeUYKTj9Xy"
      },
      "execution_count": 71,
      "outputs": []
    },
    {
      "cell_type": "markdown",
      "source": [
        "Declara dos arreglos, uno con las horas de entrada y otro con 1 y 0 representando si con dichas horas se aprobó o no. Esto como datos de entrenamiento o base.\n",
        "\n",
        "Despues se declara el ratio de aprendizaje a 0.1 y se ajustan los valores de w y b con 10,000 iteraciones.\n",
        "\n",
        "Despues, se define una secuencia de 100 numeros igualmente espaciados de 0 a 8 y se guarda en la variable grafico.\n",
        "Se calcula la sigmoide de ese vector de valores y se guarda en curva"
      ],
      "metadata": {
        "id": "uYhtHMRtt4HJ"
      }
    },
    {
      "cell_type": "code",
      "source": [
        "horas = np.array([1, 2, 3, 4, 5, 6, 7])\n",
        "aprobado = np.array([0, 0, 0, 1, 1, 1, 1])\n",
        "\n",
        "aprendizaje = 0.1\n",
        "iteraciones = 10000\n",
        "\n",
        "w, b = entrenamiento(horas, aprobado, aprendizaje, iteraciones)\n",
        "\n",
        "print(w, b)\n",
        "\n",
        "grafico = np.linspace(0, 8, 100)\n",
        "curva = probabilidad(grafico, w, b)"
      ],
      "metadata": {
        "colab": {
          "base_uri": "https://localhost:8080/"
        },
        "id": "6MJ2W2-PbA8G",
        "outputId": "49641eed-9d0c-47c8-de6b-229f88c9b0e5"
      },
      "execution_count": 99,
      "outputs": [
        {
          "output_type": "stream",
          "name": "stdout",
          "text": [
            "3.9369206654932336 -13.621232341583791\n"
          ]
        }
      ]
    },
    {
      "cell_type": "markdown",
      "source": [
        "Primero, se grafica con puntos en funcion de las horas estudiadas y si aprobó o no.\n",
        "\n",
        "Despues se grafica la funcion sigmoide de los valores calculados previamente.\n",
        "\n",
        "Se agregan las etiquetas pertinentes"
      ],
      "metadata": {
        "id": "yB2tDEVXxBud"
      }
    },
    {
      "cell_type": "code",
      "source": [
        "plt.scatter(horas, aprobado, color = 'red', label='Datos')\n",
        "plt.plot(grafico, curva, label='Sigmoide')\n",
        "plt.xlabel('Horas de estudio')\n",
        "plt.ylabel('Probabilidad de aprobar')\n",
        "plt.title('Modelo de clasificacion binaria')\n",
        "plt.legend()\n",
        "plt.show()"
      ],
      "metadata": {
        "colab": {
          "base_uri": "https://localhost:8080/",
          "height": 472
        },
        "id": "y8p-UKE_cDvi",
        "outputId": "86317d5a-2040-4ae8-8b10-f1b7ebe665a3"
      },
      "execution_count": 94,
      "outputs": [
        {
          "output_type": "display_data",
          "data": {
            "text/plain": [
              "<Figure size 640x480 with 1 Axes>"
            ],
            "image/png": "[encoded data removed]"
          },
          "metadata": {}
        }
      ]
    },
    {
      "cell_type": "markdown",
      "source": [
        "Finalmente, utilizando los valores ajustados de w y b se puede pedir al usuario ingresar sus horas de estudio y calcular la probabilidad de con estas apruebe.\n"
      ],
      "metadata": {
        "id": "he_oK3f_xVWV"
      }
    },
    {
      "cell_type": "code",
      "source": [
        "entrada = float(input('Ingrese sus horas de estudio: '))\n",
        "prob = probabilidad(entrada, w, b)\n",
        "print(f'La probabilidad de aprobar es: {prob*100:.2f}%')"
      ],
      "metadata": {
        "colab": {
          "base_uri": "https://localhost:8080/"
        },
        "id": "wRHATMPXhZHm",
        "outputId": "61747125-602d-4ce2-d099-8bb1aae78473"
      },
      "execution_count": 95,
      "outputs": [
        {
          "output_type": "stream",
          "name": "stdout",
          "text": [
            "Ingrese sus horas de estudio: 3.9\n",
            "La probabilidad de aprobar es: 84.98%\n"
          ]
        }
      ]
    }
  ]
}